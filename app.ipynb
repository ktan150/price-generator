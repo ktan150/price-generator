{
 "cells": [
  {
   "cell_type": "code",
   "execution_count": 1,
   "metadata": {},
   "outputs": [],
   "source": [
    "from flask import Flask"
   ]
  },
  {
   "cell_type": "code",
   "execution_count": 2,
   "metadata": {},
   "outputs": [],
   "source": [
    "app = Flask(__name__)"
   ]
  },
  {
   "cell_type": "code",
   "execution_count": 3,
   "metadata": {},
   "outputs": [],
   "source": [
    "from flask import request, render_template\n",
    "import joblib \n",
    "\n",
    "@app.route(\"/\", methods=[\"GET\", \"POST\"]) \n",
    "def index():\n",
    "    if request.method == \"POST\":\n",
    "        longitude = request.form.get(\"longitude\")\n",
    "        latitude = request.form.get(\"latitude\")\n",
    "        microwave = request.form.get(\"microwave\")\n",
    "        smoking_allowed = request.form.get(\"smoking_allowed\")\n",
    "        p_livingroom = request.form.get(\"p_livingroom\")\n",
    "        print(longitude, latitude, microwave,smoking_allowed,p_livingroom)\n",
    "        model = joblib.load(\"Automatic_Price_Generator\")\n",
    "        pred = model.predict([[float(longitude), float(latitude),int(microwave),int(smoking_allowed),int(p_livingroom)]])\n",
    "        print(pred)\n",
    "        pred = pred[0]\n",
    "        s = \"The predicted price for your apartment is \" + str(pred)\n",
    "        return(render_template(\"index.html\", result=s))\n",
    "    else: \n",
    "        return(render_template(\"index.html\", result=\"Please enter the required information to estimate a price to charge your guests\"))"
   ]
  },
  {
   "cell_type": "code",
   "execution_count": null,
   "metadata": {},
   "outputs": [
    {
     "name": "stdout",
     "output_type": "stream",
     "text": [
      " * Serving Flask app \"__main__\" (lazy loading)\n",
      " * Environment: production\n",
      "   WARNING: This is a development server. Do not use it in a production deployment.\n",
      "   Use a production WSGI server instead.\n",
      " * Debug mode: off\n"
     ]
    },
    {
     "name": "stderr",
     "output_type": "stream",
     "text": [
      " * Running on http://127.0.0.1:80/ (Press CTRL+C to quit)\n",
      "127.0.0.1 - - [26/Mar/2022 01:23:39] \"\u001b[37mGET / HTTP/1.1\u001b[0m\" 200 -\n"
     ]
    }
   ],
   "source": [
    "if __name__ == \"__main__\":\n",
    "    app.run(host=\"127.0.0.1\", port=int(\"80\"))"
   ]
  },
  {
   "cell_type": "code",
   "execution_count": null,
   "metadata": {},
   "outputs": [],
   "source": []
  }
 ],
 "metadata": {
  "kernelspec": {
   "display_name": "Python 3",
   "language": "python",
   "name": "python3"
  },
  "language_info": {
   "codemirror_mode": {
    "name": "ipython",
    "version": 3
   },
   "file_extension": ".py",
   "mimetype": "text/x-python",
   "name": "python",
   "nbconvert_exporter": "python",
   "pygments_lexer": "ipython3",
   "version": "3.7.6"
  }
 },
 "nbformat": 4,
 "nbformat_minor": 4
}
